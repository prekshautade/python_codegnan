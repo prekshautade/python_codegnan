{
 "cells": [
  {
   "cell_type": "code",
   "execution_count": 6,
   "id": "67a20f64-d81d-4bf7-a98e-34a8a638469e",
   "metadata": {},
   "outputs": [
    {
     "name": "stdout",
     "output_type": "stream",
     "text": [
      "0 1 0 1 0 \n",
      "1 0 1 0 1 \n",
      "0 1 0 1 0 \n",
      "1 0 1 0 1 \n",
      "0 1 0 1 0 \n"
     ]
    }
   ],
   "source": [
    "n = 5\n",
    "for i in range(n):\n",
    " for j in range(n):\n",
    "     if (i+j) % 2==0:\n",
    "         print(0,end=\" \")\n",
    "     else:    \n",
    "         print(1,end=\" \")\n",
    " print()       "
   ]
  },
  {
   "cell_type": "code",
   "execution_count": 10,
   "id": "aa321536-4a86-4bdc-a139-c84e84a4e945",
   "metadata": {},
   "outputs": [
    {
     "name": "stdout",
     "output_type": "stream",
     "text": [
      "0 1 1 1 1 \n",
      "1 0 1 1 1 \n",
      "1 1 0 1 1 \n",
      "1 1 1 0 1 \n",
      "1 1 1 1 0 \n"
     ]
    }
   ],
   "source": [
    "n = 5\n",
    "for i in range(n):\n",
    "    for j in range(n):\n",
    "        if i==j:\n",
    "            print(0,end = \" \")\n",
    "        else:\n",
    "            print(1,end = \" \")\n",
    "    print()        "
   ]
  },
  {
   "cell_type": "code",
   "execution_count": 12,
   "id": "361103d2-9bad-4bba-81c0-4d3f8a7a52b7",
   "metadata": {},
   "outputs": [
    {
     "name": "stdout",
     "output_type": "stream",
     "text": [
      "        * \n",
      "      * * * \n",
      "    * * * * * \n",
      "  * * * * * * * \n",
      "* * * * * * * * * \n"
     ]
    }
   ],
   "source": [
    "rows = 5\n",
    "cols = 2 * rows - 1\n",
    "for i in range(rows):\n",
    "    # this loop handles starting spaces\n",
    "    for j in range(rows - i - 1):\n",
    "        print(\" \",end=\" \")\n",
    "    # this loop handles * pattern\n",
    "    for k in range(2 * i + 1):\n",
    "        print(\"*\",end = \" \")\n",
    "    print()    "
   ]
  },
  {
   "cell_type": "code",
   "execution_count": 18,
   "id": "50ee796f-c790-4cee-934c-a43c9a4575a1",
   "metadata": {},
   "outputs": [
    {
     "name": "stdout",
     "output_type": "stream",
     "text": [
      "* * * * * * * * * \n",
      "  * * * * * * * \n",
      "    * * * * * \n",
      "      * * * \n",
      "        * \n"
     ]
    }
   ],
   "source": [
    "rows = 5\n",
    "cols = 2 * rows - 1\n",
    "for i in range(rows, 0, -1):\n",
    "    for j in range(rows-i):\n",
    "        print(\" \",end=\" \")\n",
    "    for k in range(2 * i - 1):\n",
    "        print(\"*\",end = \" \")\n",
    "    print()"
   ]
  },
  {
   "cell_type": "code",
   "execution_count": 16,
   "id": "02eae023-706e-45ab-9636-8a906cd6fafe",
   "metadata": {},
   "outputs": [
    {
     "name": "stdout",
     "output_type": "stream",
     "text": [
      "        * \n",
      "      * * * \n",
      "    * * * * * \n",
      "  * * * * * * * \n",
      "* * * * * * * * * \n",
      "  * * * * * * * \n",
      "    * * * * * \n",
      "      * * * \n",
      "        * \n"
     ]
    }
   ],
   "source": [
    "rows = 5\n",
    "cols = 2 * rows - 1\n",
    "for i in range(rows):\n",
    "    # this loop handles starting spaces\n",
    "    for j in range(rows - i - 1):\n",
    "        print(\" \",end=\" \")\n",
    "    # this loop handles * pattern\n",
    "    for k in range(2 * i + 1):\n",
    "        print(\"*\",end = \" \")\n",
    "    print()  \n",
    "rows = 5\n",
    "cols = 2 * rows - 1\n",
    "for i in range(rows - 1, 0, -1):\n",
    "    for j in range(rows-i):\n",
    "        print(\" \",end=\" \")\n",
    "    for k in range(2 * i - 1):\n",
    "        print(\"*\",end = \" \")\n",
    "    print()    \n",
    "    "
   ]
  },
  {
   "cell_type": "code",
   "execution_count": 30,
   "id": "af9b5424-d99f-4959-88d1-857c82b5ed7c",
   "metadata": {},
   "outputs": [
    {
     "name": "stdout",
     "output_type": "stream",
     "text": [
      "[1, 2, 5, 10]\n",
      "10 is not a prime number\n"
     ]
    }
   ],
   "source": [
    "n = 10\n",
    "res = []\n",
    "for i in range(1 , n+1):\n",
    "    if n % i == 0:\n",
    "      res.append(i)\n",
    "print(res)\n",
    "if len(res) == 2:\n",
    "    print(f\"{n} is prime number\")\n",
    "else:\n",
    "    print(f\"{n} is not a prime number\")"
   ]
  },
  {
   "cell_type": "code",
   "execution_count": 35,
   "id": "1ee29f84-9b17-4951-9529-a02619064f4c",
   "metadata": {},
   "outputs": [
    {
     "name": "stdout",
     "output_type": "stream",
     "text": [
      " 9 is not a prime number\n"
     ]
    }
   ],
   "source": [
    "n = 9\n",
    "res = []\n",
    "for i in range(2,n//2+1):\n",
    "    if n % i == 0:\n",
    "      print(f\" {n} is not a prime number\")\n",
    "      break\n",
    "else:\n",
    "    print(f\"{n} is prime number\")\n"
   ]
  },
  {
   "cell_type": "code",
   "execution_count": null,
   "id": "0d829397-c3ad-4368-86c0-bfbd6bdb9de5",
   "metadata": {},
   "outputs": [],
   "source": []
  }
 ],
 "metadata": {
  "kernelspec": {
   "display_name": "Python 3 (ipykernel)",
   "language": "python",
   "name": "python3"
  },
  "language_info": {
   "codemirror_mode": {
    "name": "ipython",
    "version": 3
   },
   "file_extension": ".py",
   "mimetype": "text/x-python",
   "name": "python",
   "nbconvert_exporter": "python",
   "pygments_lexer": "ipython3",
   "version": "3.13.7"
  }
 },
 "nbformat": 4,
 "nbformat_minor": 5
}
