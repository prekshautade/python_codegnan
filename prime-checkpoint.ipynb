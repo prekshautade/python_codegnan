{
 "cells": [
  {
   "cell_type": "code",
   "execution_count": 1,
   "id": "aef030c5-901b-440f-a0ca-9183459e75ff",
   "metadata": {},
   "outputs": [
    {
     "name": "stdout",
     "output_type": "stream",
     "text": [
      "[1, 2, 5, 10]\n",
      "10 is not a prime number\n"
     ]
    }
   ],
   "source": [
    "n = 10\n",
    "res = []\n",
    "for i in range(1 , n+1):\n",
    "    if n % i == 0:\n",
    "      res.append(i)\n",
    "print(res)\n",
    "if len(res) == 2:\n",
    "    print(f\"{n} is prime number\")\n",
    "else:\n",
    "    print(f\"{n} is not a prime number\")"
   ]
  },
  {
   "cell_type": "code",
   "execution_count": 4,
   "id": "9df91eda-7f49-4fe8-b1ae-7922b1628125",
   "metadata": {},
   "outputs": [
    {
     "name": "stdout",
     "output_type": "stream",
     "text": [
      "[1, 2, 5, 10]\n",
      "10 is not a prime number\n"
     ]
    }
   ],
   "source": [
    "n = 10\n",
    "res = []\n",
    "for i in range(1 , n+1):\n",
    "    if n % i == 0:\n",
    "      res.append(i)\n",
    "print(res)\n",
    "if len(res) == 2:\n",
    "    print(f\"{n} is prime number\")\n",
    "else:\n",
    "    print(f\"{n} is not a prime number\")"
   ]
  },
  {
   "cell_type": "code",
   "execution_count": null,
   "id": "ac6c1421-b3a1-452c-ae67-a64c22bdf479",
   "metadata": {},
   "outputs": [],
   "source": []
  },
  {
   "cell_type": "code",
   "execution_count": null,
   "id": "fd15ad9f-ae3f-429e-9b7b-6519ec711163",
   "metadata": {},
   "outputs": [],
   "source": []
  }
 ],
 "metadata": {
  "kernelspec": {
   "display_name": "Python 3 (ipykernel)",
   "language": "python",
   "name": "python3"
  },
  "language_info": {
   "codemirror_mode": {
    "name": "ipython",
    "version": 3
   },
   "file_extension": ".py",
   "mimetype": "text/x-python",
   "name": "python",
   "nbconvert_exporter": "python",
   "pygments_lexer": "ipython3",
   "version": "3.13.7"
  }
 },
 "nbformat": 4,
 "nbformat_minor": 5
}
